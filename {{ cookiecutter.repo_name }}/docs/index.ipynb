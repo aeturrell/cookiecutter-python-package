{
 "cells": [
  {
   "cell_type": "markdown",
   "metadata": {},
   "source": [
    "# {{cookiecutter.project_name}}\n",
    "\n",
    "{{cookiecutter.project_description}}\n",
    "\n",
    "![](logo.svg){width=10%}"
   ]
  },
  {
   "cell_type": "markdown",
   "metadata": {},
   "source": [
    "[![PyPI](https://img.shields.io/pypi/v/{{cookiecutter.repo_name}}.svg)](https://pypi.org/project/{{cookiecutter.repo_name}}/)\n",
    "[![Status](https://img.shields.io/pypi/status/{{cookiecutter.repo_name}}.svg)](https://pypi.org/project/{{cookiecutter.repo_name}}/)\n",
    "[![Python Version](https://img.shields.io/pypi/pyversions/{{cookiecutter.repo_name}})](https://pypi.org/project/{{cookiecutter.repo_name}})\n",
    "[![License](https://img.shields.io/pypi/l/{{cookiecutter.repo_name}})](https://opensource.org/licenses/MIT)\n",
    "[![Read the documentation at https://{{cookiecutter.github_handle}}.github.io/{{cookiecutter.repo_name}}/](https://img.shields.io/badge/docs-passing-brightgreen)](https://{{cookiecutter.github_handle}}.github.io/{{cookiecutter.repo_name}}/)\n",
    "[![Tests](https://github.com/{{cookiecutter.github_handle}}/{{cookiecutter.repo_name}}/workflows/Tests/badge.svg)](https://github.com/{{cookiecutter.github_handle}}/{{cookiecutter.repo_name}}/actions?workflow=Tests)\n",
    "[![Codecov](https://codecov.io/gh/{{cookiecutter.github_handle}}/{{cookiecutter.repo_name}}/branch/main/graph/badge.svg)](https://codecov.io/gh/{{cookiecutter.github_handle}}/{{cookiecutter.repo_name}})\n",
    "[![pre-commit](https://img.shields.io/badge/pre--commit-enabled-brightgreen?logo=pre-commit&logoColor=white)](https://github.com/pre-commit/pre-commit)\n",
    "[![Ruff](https://img.shields.io/endpoint?url=https://raw.githubusercontent.com/astral-sh/ruff/main/assets/badge/v2.json)](https://github.com/astral-sh/ruff)\n",
    "[![Downloads](https://static.pepy.tech/badge/{{cookiecutter.repo_name}})](https://pepy.tech/project/{{cookiecutter.repo_name}})\n",
    "[![Source](https://img.shields.io/badge/source%20code-github-lightgrey?style=for-the-badge)](https://github.com/{{cookiecutter.github_handle}}/{{cookiecutter.repo_name}})\n",
    "\n",
    "![Linux](https://img.shields.io/badge/Linux-FCC624?style=for-the-badge&logo=linux&logoColor=black)\n",
    "![macOS](https://img.shields.io/badge/mac%20os-000000?style=for-the-badge&logo=macos&logoColor=F0F0F0)\n",
    "![Windows](https://img.shields.io/badge/Windows-0078D6?style=for-the-badge&logo=windows&logoColor=white)\n",
    "\n"
   ]
  },
  {
   "cell_type": "markdown",
   "metadata": {},
   "source": [
    "**{{cookiecutter.repo_name}}**. {{cookiecutter.project_description}}.\n",
    "\n",
    "## Quickstart\n"
   ]
  },
  {
   "cell_type": "markdown",
   "metadata": {},
   "source": [
    "## Requirements\n",
    "\n",
    "You can find a full list of requirements in the [pyproject.toml](https://github.com/{{cookiecutter.github_handle}}/{{cookiecutter.repo_name}}/blob/main/pyproject.toml) file."
   ]
  },
  {
   "cell_type": "markdown",
   "metadata": {},
   "source": [
    "## Installation\n",
    "\n",
    "You can install the latest release of *{{cookiecutter.repo_name}}* via\n",
    "[pip](https://pip.pypa.io/) from [PyPI](https://pypi.org/):\n",
    "\n",
    "```bash\n",
    "$ pip install {{cookiecutter.repo_name}}\n",
    "```\n",
    "\n",
    "To install the development version from git, use:\n",
    "\n",
    "```bash\n",
    "$ pip install git+https://github.com/{{cookiecutter.github_handle}}/{{cookiecutter.repo_name}}.git\n",
    "```\n",
    "\n",
    "For development, see [contributing](contributing.qmd)."
   ]
  },
  {
   "cell_type": "markdown",
   "metadata": {},
   "source": [
    "## License\n",
    "\n",
    "Distributed under the terms of the [MIT license](https://opensource.org/licenses/MIT), *{{cookiecutter.repo_name}}* is free and open source software.\n",
    "\n",
    "## Issues\n",
    "\n",
    "If you encounter any problems, please [file an issue](https://github.com/{{cookiecutter.github_handle}}/{{cookiecutter.repo_name}}/issues) along with a detailed description."
   ]
  }
 ],
 "metadata": {
  "kernelspec": {
   "display_name": "codeforecon",
   "language": "python",
   "name": "python3"
  },
  "language_info": {
   "codemirror_mode": {
    "name": "ipython",
    "version": 3
   },
   "file_extension": ".py",
   "mimetype": "text/x-python",
   "name": "python",
   "nbconvert_exporter": "python",
   "pygments_lexer": "ipython3",
   "version": "3.10.16"
  }
 },
 "nbformat": 4,
 "nbformat_minor": 4
}
